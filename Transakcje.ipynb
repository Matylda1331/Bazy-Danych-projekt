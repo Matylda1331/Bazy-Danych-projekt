{
 "cells": [
  {
   "cell_type": "code",
   "execution_count": null,
   "metadata": {
    "vscode": {
     "languageId": "plaintext"
    }
   },
   "outputs": [],
   "source": [
    "import random\n",
    "import mysql.connector\n",
    "\n",
    "# Połączenie z bazą danych\n",
    "con = mysql.connector.connect(\n",
    "    host=\"giniewicz.it\",\n",
    "    user=\"team19\",\n",
    "    password=\"te@mzaiq\",\n",
    "    database=\"team19\"\n",
    ")\n",
    "\n",
    "mycursor = con.cursor()\n",
    "\n",
    "# Funkcja do losowania wartości Zrealizowano\n",
    "def generuj_zrealizowano():\n",
    "    return 1 if random.random() < random.uniform(0.93, 0.98) else 0\n",
    "\n",
    "# Funkcja do losowania metody płatności\n",
    "def generuj_metode_platnosci():\n",
    "    wybor = random.random()\n",
    "    if wybor < random.uniform(0.55, 0.65):  # Przelew + Blik\n",
    "        return random.choice([\"Przelew\", \"Blik\"])\n",
    "    elif wybor < random.uniform(0.70, 0.90):  # Płatność kartą\n",
    "        return \"Płatność kartą\"\n",
    "    else:  # Apple Pay / Google Pay\n",
    "        return random.choice([\"Apple Pay\", \"Google Pay\"])\n",
    "\n",
    "# Generowanie i wstawianie danych do tabeli\n",
    "for _ in range(1000):  # Zmieniaj liczbę na ilość transakcji, które chcesz dodać\n",
    "    zrealizowano = generuj_zrealizowano()\n",
    "    metoda_platnosci = generuj_metode_platnosci()\n",
    "\n",
    "    # Wstaw dane do tabeli\n",
    "    mycursor.execute(\"\"\" \n",
    "        INSERT INTO Transakcje_finansowe (Zrealizowano, Metoda_platnosci)\n",
    "        VALUES (%s, %s)\n",
    "    \"\"\", (zrealizowano, metoda_platnosci))\n",
    "\n",
    "# Zatwierdź zmiany i zamknij połączenie\n",
    "con.commit()\n",
    "mycursor.close()\n",
    "con.close()\n"
   ]
  }
 ],
 "metadata": {
  "language_info": {
   "name": "python"
  }
 },
 "nbformat": 4,
 "nbformat_minor": 2
}
