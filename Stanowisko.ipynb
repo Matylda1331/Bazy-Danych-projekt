{
 "cells": [
  {
   "cell_type": "code",
   "execution_count": 1,
   "metadata": {},
   "outputs": [
    {
     "name": "stdout",
     "output_type": "stream",
     "text": [
      "Dane zostały pomyślnie dodane do tabeli Stanowisko.\n"
     ]
    }
   ],
   "source": [
    "from faker import Faker\n",
    "import mysql.connector\n",
    "\n",
    "# Połączenie z bazą danych\n",
    "con = mysql.connector.connect(\n",
    "    host=\"giniewicz.it\",\n",
    "    user=\"team19\",\n",
    "    password=\"te@mzaiq\",\n",
    "    database=\"team19\"\n",
    ")\n",
    "\n",
    "mycursor = con.cursor()\n",
    "\n",
    "# Inicjalizacja biblioteki Faker\n",
    "fake = Faker(\"pl_PL\")\n",
    "\n",
    "# Kategorie i przypisane koszty\n",
    "kategorie = [\n",
    "    {\"kategoria\": \"Manager\", \"koszt\": 1000.00},\n",
    "    {\"kategoria\": \"Programista\", \"koszt\": 750.00},\n",
    "    {\"kategoria\": \"Księgowy\", \"koszt\": 750.00},\n",
    "    {\"kategoria\": \"Specjalista ds. marketingu\", \"koszt\": 650.00},\n",
    "    {\"kategoria\": \"Konsultant ds. obsługi klienta\", \"koszt\": 500.00}\n",
    "]\n",
    "\n",
    "# Tworzenie zapytania SQL do wstawienia danych\n",
    "insert_query = \"\"\"\n",
    "INSERT INTO Stanowisko (Kategoria, Koszt_stanowiska) \n",
    "VALUES (%s, %s)\n",
    "\"\"\"\n",
    "\n",
    "# Wstawianie danych do tabeli\n",
    "for kategoria in kategorie:\n",
    "    mycursor.execute(insert_query, (kategoria[\"kategoria\"], kategoria[\"koszt\"]))\n",
    "\n",
    "# Zatwierdzanie zmian\n",
    "con.commit()\n",
    "\n",
    "print(\"Dane zostały pomyślnie dodane do tabeli Stanowisko.\")\n",
    "\n",
    "# Zamknięcie połączenia\n",
    "mycursor.close()\n",
    "con.close()"
   ]
  }
 ],
 "metadata": {
  "kernelspec": {
   "display_name": "base",
   "language": "python",
   "name": "python3"
  },
  "language_info": {
   "codemirror_mode": {
    "name": "ipython",
    "version": 3
   },
   "file_extension": ".py",
   "mimetype": "text/x-python",
   "name": "python",
   "nbconvert_exporter": "python",
   "pygments_lexer": "ipython3",
   "version": "3.11.10"
  }
 },
 "nbformat": 4,
 "nbformat_minor": 2
}
