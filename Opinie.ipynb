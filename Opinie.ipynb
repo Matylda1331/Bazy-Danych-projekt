import mysql.connector
import random
from datetime import datetime, timedelta

# Połączenie z bazą danych
connection = mysql.connector.connect(
    host="giniewicz.it",
    user="team19",
    password="te@mzaiq",
    database="team19"
)

cursor = connection.cursor()

# Zapytanie SQL do wstawiania danych do tabeli Opinie
insert_opinion_query = """
INSERT INTO Opinie (id_oceny, id_klienci, id_wycieczki, ocena, data_oceny) 
VALUES (%s, %s, %s, %s, %s);
"""

# Pobranie wszystkich zakończonych wycieczek
cursor.execute("SELECT id_wycieczki, data_rozpoczecia AS data_zakonczenia FROM Realizowane_wycieczki")
wycieczki = cursor.fetchall()

# Pobranie wszystkich klientów
cursor.execute("SELECT id_klienci FROM Klienci")
klienci = cursor.fetchall()

# Generowanie opinii dla wycieczek
for id_opinii, (id_wycieczki, data_zakonczenia) in enumerate(wycieczki, start=1):
    ocena = random.randint(1, 10)
    data_oceny = data_zakonczenia + timedelta(days=random.randint(1, 30))  # data_oceny jest późniejsza

    # Losowy klient
    id_klienci = random.choice(klienci)[0]

    # Wstawianie danych do tabeli Opinie
    cursor.execute(insert_opinion_query, (id_opinii, id_klienci, id_wycieczki, ocena, data_oceny.strftime('%Y-%m-%d')))

# Zatwierdzenie zmian w bazie danych
connection.commit()

# Zamknięcie kursora i połączenia
cursor.close()
connection.close()
