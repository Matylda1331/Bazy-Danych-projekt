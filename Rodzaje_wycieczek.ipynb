{
 "cells": [
  {
   "cell_type": "code",
   "execution_count": 13,
   "metadata": {},
   "outputs": [
    {
     "name": "stdout",
     "output_type": "stream",
     "text": [
      "Dane zostały pomyślnie wstawione do tabeli Rodzaje_wycieczek.\n"
     ]
    }
   ],
   "source": [
    "import mysql.connector\n",
    "\n",
    "connection = mysql.connector.connect(\n",
    "    host=\"giniewicz.it\",\n",
    "    user=\"team19\",\n",
    "    password=\"te@mzaiq\",\n",
    "    database=\"team19\"\n",
    ")\n",
    "\n",
    "cursor = connection.cursor()\n",
    "\n",
    "# Zapytanie o wstawienie danych do tabeli Realizowane_wycieczki z dodatkowymi kolumnami\n",
    "insert_data_query = \"\"\"\n",
    "INSERT INTO Rodzaje_wycieczek (id_rodzaj, Nazwa, Opis, id_wylot, id_przylot) \n",
    "VALUES (%s, %s, %s, %s, %s);\n",
    "\"\"\"\n",
    "\n",
    "wycieczki = [\n",
    "    (1, \"Wielka Rafa Koralowa i podwodne przygody\", \n",
    "     \"Odkryj podwodny świat jednego z największych cudów natury! Czeka Cię rejs na Wielką Rafę Koralową, gdzie będziesz nurkować lub snorkelować wśród kolorowych ryb. W programie znajdziesz także wieczorny rejs z kolacją pod gwiazdami oraz wycieczkę do tropikalnego lasu Daintree. Dla bardziej odważnych przewidziano opcję nurkowania w klatce z rekinami (za dodatkową opłatą).\", \n",
    "     1, 1),\n",
    "    \n",
    "    (2, \"Pustynna Odyseja\", \n",
    "     \"Wybierz się w podróż przez australijskie pustkowia, zaczynając od Alice Springs – serca Outbacku. Odwiedzisz tajemnicze formacje skalne, takie jak Devils Marbles, i spróbujesz lokalnych atrakcji, takich jak rzucanie bumerangiem. Następnie czeka Cię eksploracja Uluru i okolicznych parków narodowych, w tym przejażdżka wielbłądami przez pustynne wydmy. Wieczory spędzisz w wygodnych namiotach lub w hotelach w buszu, gdzie spróbujesz słynnych australijskich lamingtonów.\", \n",
    "     2, 2),\n",
    "    \n",
    "    (3, \"Survival w australijskim buszu\", \n",
    "     \"Gotowy na wyzwanie? Survival w buszu to wyprawa tylko dla odważnych! W sercu pustynnej Australii, w okolicach Alice Springs, nauczysz się, jak przetrwać w trudnych warunkach: znajdziesz wodę, zbudujesz schronienie z gałęzi i liści oraz rozpalisz ogień bez zapałek. Profesjonalni przewodnicy pokażą Ci, jak unikać niebezpiecznych zwierząt i rozpoznawać jadalne rośliny. Na koniec wyprawy zmierzysz się z “testem przetrwania” – spędzeniem jednej nocy samemu w buszu. Nie martw się – instruktorzy będą czuwać!\", \n",
    "     3, 2),\n",
    "    \n",
    "    (4, \"Wielkomiejska przygoda w Sydney\", \n",
    "     \"Tydzień w Sydney to połączenie wielkomiejskiego życia, kultury i relaksu. Odwiedzisz najsłynniejsze miejsca, takie jak Opera w Sydney, most Harbour Bridge, czy przepiękna plaża Bondi. Wieczorami zanurzysz się w nocnym życiu Sydney, odwiedzając lokalne bary, gdzie spróbujesz rzemieślniczych piw i prawdziwych australijskich koktajli.\", \n",
    "     4, 3),\n",
    "    \n",
    "    (5, \"Surfing i plażowanie\", \n",
    "     \"Marzysz o złotych plażach i falach idealnych do surfingu? Na Gold Coast nauczysz się surfować z pomocą profesjonalnych instruktorów. Czeka Cię także wyprawa na Fraser Island – największą na świecie piaszczystą wyspę. Dni wypełnione surfingiem i opalaniem zakończą się wieczornymi ogniskami na plaży z widokiem na rozgwieżdżone niebo.\", \n",
    "     2, 4),\n",
    "    \n",
    "    (6, \"Adelajda i Winne Doliny\", \n",
    "     \"Tygodniowa wyprawa do Adelajdy to doskonałe połączenie miejskich atrakcji i wycieczek za miasto. Zwiedzisz eleganckie centrum Adelajdy, odwiedzając galerie sztuki, muzea i słynny Central Market, gdzie spróbujesz lokalnych smakołyków. Następnie wyruszysz do Doliny Barossa, jednej z najsłynniejszych australijskich krain winiarskich. Czeka Cię degustacja wina w kilku winiarniach oraz poznanie procesu jego produkcji. Kolejne dni spędzisz na Kangaroo Island, gdzie spotkasz dzikie zwierzęta, w tym lwy morskie i oczywiście kangury, a także zachwycisz się spektakularnymi widokami skalnych formacji i pustych plaż.\", \n",
    "     4, 5),\n",
    "    \n",
    "    (7, \"Melbourne: Kultura, Kawa i Street Art\", \n",
    "     \"Melbourne to mekka dla miłośników kultury i dobrej kawy. W trakcie wycieczki przemierzysz najbardziej znane zakątki tego miasta. Spacer po ukrytych pasażach handlowych i ulicach ozdobionych kolorowym street artem pozwoli Ci odkryć artystyczną duszę Melbourne. Zajrzymy do kawiarni w Fitzroy, aby poznać lokalne tradycje picia kawy, a potem zwiedzimy Galerię Narodową Wiktorii oraz słynny stadion MCG. Nie zabraknie też wycieczki na pobliską Phillip Island, gdzie wieczorem zobaczysz paradę pingwinów wracających na brzeg. Na zakończenie spróbujesz lokalnych przysmaków w modnych restauracjach i odwiedzisz dzielnicę St Kilda.\", \n",
    "     2, 6),\n",
    "    \n",
    "    (8, \"Wombaty i inne cuda australijskiej przyrody\", \n",
    "     \"Rozpocznij swoją australijską przygodę w Melbourne, skąd wyruszysz na zwiedzanie najpiękniejszych parków narodowych południowo-wschodniej Australii. Podczas wyprawy odwiedzisz rezerwat Wilsons Promontory, gdzie spotkasz wombaty, kangury i emu w ich naturalnym środowisku. Na trasie znajdzie się również Park Narodowy Grampians – idealne miejsce na trekking i podziwianie wodospadów MacKenzie. W programie przewidziano warsztaty fotograficzne z lokalnym przewodnikiem.\", \n",
    "     1, 6),\n",
    "    \n",
    "    (9, \"Miasta i cuda natury\", \n",
    "     \"Kompleksowa wyprawa, która łączy największe miasta i naturalne atrakcje Australii. Zaczynasz w Sydney, gdzie zwiedzisz słynny Opera House i pospacerujesz po plaży Bondi. Następnie udasz się do Melbourne, aby poznać jego artystyczną duszę. W planie jest również przejazd Great Ocean Road, czyli jednej z najpiękniejszych tras widokowych na świecie, z przystankiem przy Dwunastu Apostołach. W programie także trekking w Blue Mountains oraz relaks na złotych plażach Gold Coast.\", \n",
    "     1, 3),\n",
    "    \n",
    "    (10, \"Przygoda w Brisbane\", \n",
    "     \"Brisbane, z jego subtropikalnym klimatem i tętniącym życiem centrum, oferuje idealne połączenie relaksu i aktywności. W tygodniowym programie znajdziesz zwiedzanie centrum miasta, rejs po rzece Brisbane i wjazd na Mount Coot-tha, gdzie zachwyci Cię widok na panoramę miasta. Po drodze odwiedzisz Lone Pine Koala Sanctuary, gdzie przytulisz koalę i nakarmisz kangury. Czas wolny spędzisz w South Bank, tętniącym życiem miejscu nad rzeką, pełnym restauracji, barów i sztucznej miejskiej plaży. Na zakończenie wyruszysz na całodniową wycieczkę na Gold Coast, gdzie plaże i surfing stanowią kwintesencję australijskiego życia.\", \n",
    "     3, 7)\n",
    "]\n",
    "\n",
    "cursor.executemany(insert_data_query, wycieczki)\n",
    "\n",
    "connection.commit()\n",
    "\n",
    "cursor.close()\n",
    "connection.close()\n",
    "\n",
    "print(\"Dane zostały pomyślnie wstawione do tabeli Rodzaje_wycieczek.\")\n"
   ]
  },
  {
   "cell_type": "code",
   "execution_count": null,
   "metadata": {},
   "outputs": [],
   "source": []
  }
 ],
 "metadata": {
  "kernelspec": {
   "display_name": "base",
   "language": "python",
   "name": "python3"
  },
  "language_info": {
   "codemirror_mode": {
    "name": "ipython",
    "version": 3
   },
   "file_extension": ".py",
   "mimetype": "text/x-python",
   "name": "python",
   "nbconvert_exporter": "python",
   "pygments_lexer": "ipython3",
   "version": "3.12.7"
  }
 },
 "nbformat": 4,
 "nbformat_minor": 2
}
