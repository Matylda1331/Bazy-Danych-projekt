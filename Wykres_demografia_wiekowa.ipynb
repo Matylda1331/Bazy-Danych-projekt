{
 "cells": [
  {
   "cell_type": "code",
   "execution_count": null,
   "metadata": {
    "vscode": {
     "languageId": "plaintext"
    }
   },
   "outputs": [],
   "source": [
    "import mysql.connector\n",
    "import matplotlib.pyplot as plt\n",
    "\n",
    "# Połączenie z bazą danych\n",
    "con = mysql.connector.connect(\n",
    "    host=\"giniewicz.it\",\n",
    "    user=\"team19\",\n",
    "    password=\"te@mzaiq\",\n",
    "    database=\"team19\"\n",
    ")\n",
    "\n",
    "cursor = con.cursor()\n",
    "\n",
    "# Zapytanie SQL do pobrania danych demograficznych klientów według wieku\n",
    "query = '''\n",
    "SELECT \n",
    "    CASE \n",
    "        WHEN YEAR(CURDATE()) - YEAR(Data_urodzenia) < 20 THEN '<20'\n",
    "        WHEN YEAR(CURDATE()) - YEAR(Data_urodzenia) BETWEEN 20 AND 29 THEN '20-29'\n",
    "        WHEN YEAR(CURDATE()) - YEAR(Data_urodzenia) BETWEEN 30 AND 39 THEN '30-39'\n",
    "        WHEN YEAR(CURDATE()) - YEAR(Data_urodzenia) BETWEEN 40 AND 49 THEN '40-49'\n",
    "        WHEN YEAR(CURDATE()) - YEAR(Data_urodzenia) BETWEEN 50 AND 59 THEN '50-59'\n",
    "        WHEN YEAR(CURDATE()) - YEAR(Data_urodzenia) BETWEEN 60 AND 69 THEN '60-69'\n",
    "        ELSE '70+'\n",
    "    END AS Wiek,\n",
    "    COUNT(*) AS Liczba\n",
    "FROM Klienci\n",
    "JOIN Rezerwacje ON Klienci.id_klienci = Rezerwacje.id_klienci\n",
    "GROUP BY Wiek;\n",
    "'''\n",
    "\n",
    "cursor.execute(query)\n",
    "results = cursor.fetchall()\n",
    "con.close()\n",
    "\n",
    "# Przygotowanie danych do wykresu\n",
    "labels = [row[0] for row in results]\n",
    "counts = [row[1] for row in results]\n",
    "\n",
    "# Tworzenie wykresu kołowego\n",
    "plt.figure(figsize=(8, 8))\n",
    "plt.pie(counts, labels=labels, autopct='%1.1f%%', colors=['#ff9999', '#66b3ff', '#99ff99', '#ffcc99', '#c2c2f0', '#ffb3e6', '#d9b3ff'], startangle=140)\n",
    "plt.title('Demografia klientów według wieku', fontsize=14, fontweight='bold')\n",
    "plt.axis('equal')\n",
    "\n",
    "# Zapisanie wykresu\n",
    "plot_filename = \"Demografia_wiekowa.png\"\n",
    "plt.savefig(plot_filename)\n",
    "plt.close()\n"
   ]
  }
 ],
 "metadata": {
  "language_info": {
   "name": "python"
  }
 },
 "nbformat": 4,
 "nbformat_minor": 2
}
