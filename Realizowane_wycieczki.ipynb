import mysql.connector
import random
from datetime import datetime, timedelta

connection = mysql.connector.connect(
    host="giniewicz.it",
    user="team19",
    password="te@mzaiq",
    database="team19"
)

cursor = connection.cursor()

insert_data_query = """
INSERT INTO Realizowane_wycieczki (id_wycieczki, id_rodzaj, cena_za_osobe, ilosc_nocy, data_rozpoczecia, data_zakonczenia) 
VALUES (%s, %s, %s, %s, %s, %s);
"""

rodzaje_wycieczek = [
    {"id_rodzaj": 1, "cena_zakres": (15000, 20000), "dni_zakres": (10, 12)},
    {"id_rodzaj": 2, "cena_zakres": (15000, 20000), "dni_zakres": (10, 12)},
    {"id_rodzaj": 3, "cena_zakres": (15000, 20000), "dni_zakres": (10, 12)},
    {"id_rodzaj": 4, "cena_zakres": (20000, 25000), "dni_zakres": (14, 16)},
    {"id_rodzaj": 5, "cena_zakres": (20000, 25000), "dni_zakres": (14, 16)},
    {"id_rodzaj": 6, "cena_zakres": (20000, 25000), "dni_zakres": (14, 16)},
    {"id_rodzaj": 7, "cena_zakres": (20000, 25000), "dni_zakres": (14, 16)},
    {"id_rodzaj": 8, "cena_zakres": (25000, 30000), "dni_zakres": (18, 20)},
    {"id_rodzaj": 9, "cena_zakres": (25000, 30000), "dni_zakres": (18, 20)},
    {"id_rodzaj": 10, "cena_zakres": (25000, 30000), "dni_zakres": (18, 20)}
]

def losuj_date_wyjazdu():
    start_date = datetime(2022, 1, 1)
    end_date = datetime.now()
    delta = end_date - start_date
    random_days = random.randint(0, delta.days)
    return start_date + timedelta(days=random_days)

for i in range(1, 11):  
    rodzaj = random.choice(rodzaje_wycieczek)
    cena_za_osobe = random.randint(rodzaj["cena_zakres"][0], rodzaj["cena_zakres"][1])
    ilosc_nocy = random.randint(rodzaj["dni_zakres"][0], rodzaj["dni_zakres"][1]) - 1
    data_wyjazdu = losuj_date_wyjazdu()
    data_przyjazdu = data_wyjazdu + timedelta(days=ilosc_nocy)  

    cursor.execute(insert_data_query, (i, rodzaj["id_rodzaj"], cena_za_osobe, ilosc_nocy, 
                                       data_wyjazdu.strftime('%Y-%m-%d'), data_przyjazdu.strftime('%Y-%m-%d')))

connection.commit()

cursor.close()
connection.close()
