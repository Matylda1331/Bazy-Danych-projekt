{
 "cells": [
  {
   "cell_type": "code",
   "execution_count": 3,
   "metadata": {},
   "outputs": [],
   "source": [
    "import mysql.connector\n",
    "import random\n",
    "from datetime import datetime, timedelta\n",
    "\n",
    "connection = mysql.connector.connect(\n",
    "    host=\"giniewicz.it\",\n",
    "    user=\"team19\",\n",
    "    password=\"te@mzaiq\",\n",
    "    database=\"team19\"\n",
    ")\n",
    "\n",
    "cursor = connection.cursor()\n",
    "\n",
    "insert_data_query = \"\"\"\n",
    "INSERT INTO Realizowane_wycieczki (id_wycieczki, id_rodzaj, cena_za_osobe, ilosc_nocy, data_rozpoczecia, data_zakonczenia) \n",
    "VALUES (%s, %s, %s, %s, %s, %s);\n",
    "\"\"\"\n",
    "\n",
    "rodzaje_wycieczek = [\n",
    "    {\"id_rodzaj\": 1, \"cena_zakres\": (15000, 20000), \"dni_zakres\": (10, 12)},\n",
    "    {\"id_rodzaj\": 2, \"cena_zakres\": (15000, 20000), \"dni_zakres\": (10, 12)},\n",
    "    {\"id_rodzaj\": 3, \"cena_zakres\": (15000, 20000), \"dni_zakres\": (10, 12)},\n",
    "    {\"id_rodzaj\": 4, \"cena_zakres\": (20000, 25000), \"dni_zakres\": (14, 16)},\n",
    "    {\"id_rodzaj\": 5, \"cena_zakres\": (20000, 25000), \"dni_zakres\": (14, 16)},\n",
    "    {\"id_rodzaj\": 6, \"cena_zakres\": (20000, 25000), \"dni_zakres\": (14, 16)},\n",
    "    {\"id_rodzaj\": 7, \"cena_zakres\": (20000, 25000), \"dni_zakres\": (14, 16)},\n",
    "    {\"id_rodzaj\": 8, \"cena_zakres\": (25000, 30000), \"dni_zakres\": (18, 20)},\n",
    "    {\"id_rodzaj\": 9, \"cena_zakres\": (25000, 30000), \"dni_zakres\": (18, 20)},\n",
    "    {\"id_rodzaj\": 10, \"cena_zakres\": (25000, 30000), \"dni_zakres\": (18, 20)}\n",
    "]\n",
    "\n",
    "def losuj_date_wyjazdu():\n",
    "    start_date = datetime(2022, 1, 14)\n",
    "    end_date = datetime.now()\n",
    "    delta = end_date - start_date\n",
    "    random_days = random.randint(0, delta.days)\n",
    "    return start_date + timedelta(days=random_days)\n",
    "\n",
    "for i in range(1, 501):  \n",
    "    rodzaj = random.choice(rodzaje_wycieczek)\n",
    "    cena_za_osobe = random.randint(rodzaj[\"cena_zakres\"][0], rodzaj[\"cena_zakres\"][1])\n",
    "    ilosc_nocy = random.randint(rodzaj[\"dni_zakres\"][0], rodzaj[\"dni_zakres\"][1]) - 1\n",
    "    data_wyjazdu = losuj_date_wyjazdu()\n",
    "    data_przyjazdu = data_wyjazdu + timedelta(days=ilosc_nocy + 2)  \n",
    "\n",
    "    cursor.execute(insert_data_query, (i, rodzaj[\"id_rodzaj\"], cena_za_osobe, ilosc_nocy, \n",
    "                                       data_wyjazdu.strftime('%Y-%m-%d'), data_przyjazdu.strftime('%Y-%m-%d')))\n",
    "\n",
    "connection.commit()\n",
    "\n",
    "cursor.close()\n",
    "connection.close()"
   ]
  }
 ],
 "metadata": {
  "kernelspec": {
   "display_name": "base",
   "language": "python",
   "name": "python3"
  },
  "language_info": {
   "codemirror_mode": {
    "name": "ipython",
    "version": 3
   },
   "file_extension": ".py",
   "mimetype": "text/x-python",
   "name": "python",
   "nbconvert_exporter": "python",
   "pygments_lexer": "ipython3",
   "version": "3.11.10"
  }
 },
 "nbformat": 4,
 "nbformat_minor": 2
}
