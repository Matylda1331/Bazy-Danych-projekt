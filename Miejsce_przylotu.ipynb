{
 "cells": [
  {
   "cell_type": "code",
   "execution_count": null,
   "metadata": {
    "vscode": {
     "languageId": "plaintext"
    }
   },
   "outputs": [],
   "source": [
    "import mysql.connector\n",
    "from datetime import datetime, timedelta\n",
    "\n",
    "# Połączenie z bazą danych\n",
    "connection = mysql.connector.connect(\n",
    "    host=\"giniewicz.it\",\n",
    "    user=\"team19\",\n",
    "    password=\"te@mzaiq\",\n",
    "    database=\"team19\"\n",
    ")\n",
    "\n",
    "cursor = connection.cursor()\n",
    " \n",
    "# Zapytanie SQL do wstawiania danych do tabeli miejsce_wylotu\n",
    "insert_data_query = \"\"\"\n",
    "INSERT INTO Miejsce_przylotu (id_przylot, Miasto) \n",
    "VALUES (%s, %s);\n",
    "\"\"\"\n",
    "\n",
    "# Lista miast\n",
    "miasta = ['Cairns', 'Alice Springs', 'Sydney', 'Gold Coast', 'Adelaide', 'Melbourne', 'Brisbane']\n",
    "for id_przylot, Miasto in enumerate(miasta, start=1):  # Jeden wpis na miasto\n",
    "        cursor.execute(insert_data_query, (id_przylot, Miasto))  \n",
    "connection.commit()\n",
    "cursor.close()\n",
    "connection.close()\n"
   ]
  }
 ],
 "metadata": {
  "language_info": {
   "name": "python"
  }
 },
 "nbformat": 4,
 "nbformat_minor": 2
}
