{
 "cells": [
  {
   "cell_type": "code",
   "execution_count": null,
   "metadata": {
    "vscode": {
     "languageId": "plaintext"
    }
   },
   "outputs": [],
   "source": [
    "import mysql.connector\n",
    "import random\n",
    "from datetime import datetime, timedelta\n",
    "\n",
    "# Połączenie z bazą danych\n",
    "connection = mysql.connector.connect(\n",
    "    host=\"giniewicz.it\",\n",
    "    user=\"team19\",\n",
    "    password=\"te@mzaiq\",\n",
    "    database=\"team19\"\n",
    ")\n",
    "\n",
    "cursor = connection.cursor()\n",
    "\n",
    "# Zapytanie SQL do wstawiania danych do tabeli Rezerwacje\n",
    "insert_data_query = \"\"\"\n",
    "INSERT INTO Rezerwacje (id_rezerwacje, id_klienci, id_pracownicy, id_wycieczki, id_transakcje, Data_rezerwacji)\n",
    "VALUES (%s, %s, %s, %s, %s, %s);\n",
    "\"\"\"\n",
    "\n",
    "# Funkcja losująca datę rezerwacji w zakresie od 6 miesięcy do 1 tygodnia przed datą wyjazdu\n",
    "def losuj_date_rezerwacji(data_rozpoczecia):\n",
    "    # Określamy, że rezerwacja musi być co najmniej 1 tydzień przed datą rozpoczęcia wycieczki\n",
    "    max_date = data_rozpoczecia - timedelta(weeks=1)\n",
    "    # Określamy, że rezerwacja może być do 6 miesięcy przed datą rozpoczęcia wycieczki\n",
    "    min_date = data_rozpoczecia - timedelta(weeks=26)\n",
    "    \n",
    "    # Losujemy datę rezerwacji pomiędzy min_date a max_date\n",
    "    delta = max_date - min_date\n",
    "    random_days = random.randint(0, delta.days)\n",
    "    return min_date + timedelta(days=random_days)\n",
    "\n",
    "# Pobranie wszystkich wycieczek z tabeli Realizowane_wycieczki\n",
    "cursor.execute(\"SELECT id_wycieczki, Data_rozpoczecia FROM Realizowane_wycieczki\")\n",
    "wycieczki = cursor.fetchall()\n",
    "\n",
    "# Pobranie wszystkich klientów z tabeli Klienci\n",
    "cursor.execute(\"SELECT id_klienci FROM Klienci\")\n",
    "klienci = cursor.fetchall()\n",
    "\n",
    "# Pobranie wszystkich pracowników z tabeli Pracownicy\n",
    "cursor.execute(\"SELECT id_pracownicy FROM Pracownicy\")\n",
    "pracownicy = cursor.fetchall()\n",
    "\n",
    "# Pobranie wszystkich transakcji z tabeli Transakcje_finansowe\n",
    "cursor.execute(\"SELECT id_transakcje FROM Transakcje_finansowe\")\n",
    "transakcje = cursor.fetchall()\n",
    "\n",
    "for i in range(1, 501):  # Generujemy 500 rezerwacji\n",
    "    id_klienci = random.choice(klienci)[0]  # Losowanie klienta z tabeli Klienci\n",
    "    id_pracownicy = random.choice(pracownicy)[0]  # Losowanie pracownika z tabeli Pracownicy\n",
    "    id_wycieczki, data_rozpoczecia = random.choice(wycieczki)  # Losowanie wycieczki z tabeli Realizowane_wycieczki\n",
    "    id_transakcje = random.choice(transakcje)[0]  # Losowanie transakcji z tabeli Transakcje_finansowe\n",
    "    \n",
    "    # Losowanie daty rezerwacji w zależności od daty rozpoczęcia wycieczki\n",
    "    data_rezerwacji = losuj_date_rezerwacji(data_rozpoczecia).strftime('%Y-%m-%d')\n",
    "\n",
    "    # Wstawianie danych do tabeli\n",
    "    cursor.execute(insert_data_query, (i, id_klienci, id_pracownicy, id_wycieczki, id_transakcje, data_rezerwacji))\n",
    "\n",
    "# Zatwierdzenie zmian w bazie danych\n",
    "connection.commit()\n",
    "\n",
    "# Zamknięcie kursora i połączenia\n",
    "cursor.close()\n",
    "connection.close()"
   ]
  }
 ],
 "metadata": {
  "language_info": {
   "name": "python"
  }
 },
 "nbformat": 4,
 "nbformat_minor": 2
}
