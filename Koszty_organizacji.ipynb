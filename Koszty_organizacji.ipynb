{
 "cells": [
  {
   "cell_type": "code",
   "execution_count": 9,
   "metadata": {},
   "outputs": [
    {
     "name": "stdout",
     "output_type": "stream",
     "text": [
      "Dane zostały pomyślnie wstawione do tabeli Koszty_Organizacji.\n"
     ]
    }
   ],
   "source": [
    "from faker import Faker\n",
    "import random\n",
    "import mysql.connector\n",
    "\n",
    "# Połączenie z bazą danych\n",
    "con = mysql.connector.connect(\n",
    "    host=\"giniewicz.it\",\n",
    "    user=\"team19\",\n",
    "    password=\"te@mzaiq\",\n",
    "    database=\"team19\"\n",
    ")\n",
    "\n",
    "mycursor = con.cursor()\n",
    "\n",
    "# Inicjalizacja biblioteki Faker\n",
    "fake = Faker(\"pl_PL\")\n",
    "\n",
    "# Funkcje do generowania kosztów dla poszczególnych wycieczek\n",
    "def generuj_nocleg(id_rodzaj):\n",
    "    if id_rodzaj== 3:\n",
    "        return round(random.uniform(200, 300), 2)\n",
    "    else:\n",
    "        return round(random.uniform(300, 500), 2)\n",
    "\n",
    "def generuj_przewodnik():\n",
    "    return round(random.uniform(600, 2000), 2)\n",
    "\n",
    "def generuj_loty():\n",
    "    return round(random.uniform(5000, 8000), 2)\n",
    "\n",
    "def generuj_atrakcje(id_rodzaj):\n",
    "    if id_rodzaj== 3:\n",
    "        return round(random.uniform(1000, 1500), 2)\n",
    "    else:\n",
    "        return round(random.uniform(1500, 2500), 2)\n",
    "\n",
    "def generuj_ubezpieczenie():\n",
    "    return round(random.uniform(200, 300), 2)\n",
    "\n",
    "def generuj_transport():\n",
    "    return round(random.uniform(500, 1000), 2)\n",
    "\n",
    "# Wstawianie danych do tabeli Koszty_Organizacji\n",
    "for id_rodzaj in range(1, 11):\n",
    "    koszty = {\n",
    "        \"Nocleg_za_noc\": generuj_nocleg(id_rodzaj),\n",
    "        \"Przewodnik\": generuj_przewodnik(),\n",
    "        \"Loty\": generuj_loty(),\n",
    "        \"Atrakcje\": generuj_atrakcje(id_rodzaj),\n",
    "        \"Ubezpieczenie\": generuj_ubezpieczenie(),\n",
    "        \"Transport\": generuj_transport()\n",
    "    }\n",
    "\n",
    "    mycursor.execute('''\n",
    "        INSERT INTO Koszty_Organizacji (id_rodzaj, Nocleg_za_noc, Przewodnik, Loty, Atrakcje, Ubezpieczenie, Transport)\n",
    "        VALUES (%s, %s, %s, %s, %s, %s, %s)\n",
    "    ''', (\n",
    "        id_rodzaj,\n",
    "        koszty[\"Nocleg_za_noc\"],\n",
    "        koszty[\"Przewodnik\"],\n",
    "        koszty[\"Loty\"],\n",
    "        koszty[\"Atrakcje\"],\n",
    "        koszty[\"Ubezpieczenie\"],\n",
    "        koszty[\"Transport\"]\n",
    "    ))\n",
    "\n",
    "# Zatwierdzenie zmian i zamknięcie połączenia\n",
    "con.commit()\n",
    "mycursor.close()\n",
    "con.close()\n",
    "\n",
    "print(\"Dane zostały pomyślnie wstawione do tabeli Koszty_Organizacji.\")\n"
   ]
  }
 ],
 "metadata": {
  "kernelspec": {
   "display_name": "base",
   "language": "python",
   "name": "python3"
  },
  "language_info": {
   "codemirror_mode": {
    "name": "ipython",
    "version": 3
   },
   "file_extension": ".py",
   "mimetype": "text/x-python",
   "name": "python",
   "nbconvert_exporter": "python",
   "pygments_lexer": "ipython3",
   "version": "3.11.10"
  }
 },
 "nbformat": 4,
 "nbformat_minor": 2
}
