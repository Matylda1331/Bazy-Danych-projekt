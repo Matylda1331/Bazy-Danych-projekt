{
 "cells": [
  {
   "cell_type": "code",
   "execution_count": 2,
   "metadata": {},
   "outputs": [
    {
     "name": "stdout",
     "output_type": "stream",
     "text": [
      "Wstawiono 100 rekordów do tabeli Klienci.\n"
     ]
    }
   ],
   "source": [
    "from faker import Faker\n",
    "import mysql.connector\n",
    "import re\n",
    "import unicodedata\n",
    "from datetime import datetime\n",
    "import random\n",
    "\n",
    "# Połączenie z bazą danych\n",
    "con = mysql.connector.connect(\n",
    "    host=\"giniewicz.it\",\n",
    "    user=\"team19\",\n",
    "    password=\"te@mzaiq\",\n",
    "    database=\"team19\"\n",
    ")\n",
    "\n",
    "mycursor = con.cursor()\n",
    "\n",
    "# Inicjalizacja obiektu Faker\n",
    "fake = Faker('pl_PL')  # Polski lokalizator\n",
    "\n",
    "# Funkcja do usuwania polskich znaków diakrytycznych z tekstu\n",
    "def remove_polish_chars(text):\n",
    "    return ''.join(\n",
    "        c for c in unicodedata.normalize('NFD', text) if unicodedata.category(c) != 'Mn'\n",
    "    )\n",
    "\n",
    "# Lista popularnych domen e-mail\n",
    "domeny = [\"gmail.com\", \"yahoo.com\", \"outlook.com\", \"wp.pl\", \"interia.pl\", \"onet.pl\"]\n",
    "\n",
    "# Funkcja do generowania e-maila na podstawie imienia i nazwiska, usuwanie polskich znaków\n",
    "def generuj_email(imie, nazwisko):\n",
    "    domena = random.choice(domeny)  # Wybieramy losową domenę z listy\n",
    "    return f\"{remove_polish_chars(imie.lower())}.{remove_polish_chars(nazwisko.lower())}@{domena}\"\n",
    "\n",
    "# Generowanie i wstawianie nowych danych do tabeli\n",
    "for _ in range(300):\n",
    "    Imie = fake.first_name()\n",
    "    Nazwisko = fake.last_name()\n",
    "    \n",
    "    # Generowanie e-maila na podstawie imienia i nazwiska, usuwanie polskich znaków\n",
    "    Email = generuj_email(Imie, Nazwisko)\n",
    "    \n",
    "    # Generowanie numeru telefonu z prefiksem +48\n",
    "    Numer_telefonu = \"+48 \" + \" \".join([str(int(re.sub(r'\\D', '', fake.phone_number())))[-9:].rjust(9, '0')[i:i+3] for i in range(0, 9, 3)])\n",
    "    \n",
    "    Adres = fake.address().replace(\"\\n\", \", \")\n",
    "    \n",
    "    # Generowanie danych kontaktowych bliskich\n",
    "    Imie_bliskiej_osoby = fake.first_name()\n",
    "\n",
    "    # 80% szans, że nazwisko bliskiej osoby będzie takie samo jak klienta, 20% szans, że będzie inne\n",
    "    if random.random() < 0.8:\n",
    "        Nazwisko_bliskiej_osoby = Nazwisko\n",
    "    else:\n",
    "        Nazwisko_bliskiej_osoby = fake.last_name()\n",
    "\n",
    "    Numer_telefonu_bliskiej_osoby = \"+48 \" + \" \".join([str(int(re.sub(r'\\D', '', fake.phone_number())))[-9:].rjust(9, '0')[i:i+3] for i in range(0, 9, 3)])\n",
    "\n",
    "    # Tworzymy pełne dane kontaktowe bliskich\n",
    "    Dane_kontaktowe_bliskich = f\"{Imie_bliskiej_osoby} {Nazwisko_bliskiej_osoby}, {Numer_telefonu_bliskiej_osoby}\"\n",
    "\n",
    "    Data_urodzenia = fake.date_of_birth(minimum_age=18, maximum_age=80).strftime('%Y-%m-%d')\n",
    "\n",
    "    # Wstawianie danych do tabeli Klienci\n",
    "    mycursor.execute(\"\"\" \n",
    "        INSERT INTO Klienci (Imie, Nazwisko, Numer_telefonu, Email, Adres, Dane_kontaktowe_bliskich, Data_urodzenia)\n",
    "        VALUES (%s, %s, %s, %s, %s, %s, %s)\n",
    "    \"\"\", (Imie, Nazwisko, Numer_telefonu, Email, Adres, Dane_kontaktowe_bliskich, Data_urodzenia))\n",
    "\n",
    "# Zatwierdź zmiany i zamknij połączenie\n",
    "con.commit()\n",
    "print(f\"Wstawiono {300} rekordów do tabeli Klienci.\")\n",
    "\n",
    "mycursor.close()\n",
    "con.close()\n"
   ]
  }
 ],
 "metadata": {
  "kernelspec": {
   "display_name": "base",
   "language": "python",
   "name": "python3"
  },
  "language_info": {
   "codemirror_mode": {
    "name": "ipython",
    "version": 3
   },
   "file_extension": ".py",
   "mimetype": "text/x-python",
   "name": "python",
   "nbconvert_exporter": "python",
   "pygments_lexer": "ipython3",
   "version": "3.11.10"
  }
 },
 "nbformat": 4,
 "nbformat_minor": 2
}
