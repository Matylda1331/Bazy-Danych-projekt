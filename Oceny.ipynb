{
 "cells": [
  {
   "cell_type": "code",
   "execution_count": null,
   "metadata": {},
   "outputs": [],
   "source": [
    "import mysql.connector\n",
    "import random\n",
    "from datetime import datetime, timedelta\n",
    "\n",
    "# Połączenie z bazą danych\n",
    "connection = mysql.connector.connect(\n",
    "    host=\"giniewicz.it\",\n",
    "    user=\"team19\",\n",
    "    password=\"te@mzaiq\",\n",
    "    database=\"team19\"\n",
    ")\n",
    "\n",
    "cursor = connection.cursor()\n",
    "\n",
    "# Zapytanie SQL do wstawiania danych do tabeli Oceny\n",
    "insert_opinion_query = \"\"\"\n",
    "INSERT INTO Oceny (id_rezerwacje, Ocena, Data_oceny) \n",
    "VALUES (%s, %s, %s);\n",
    "\"\"\"\n",
    "\n",
    "# Pobranie zakończonych rezerwacji, które zostały zrealizowane\n",
    "cursor.execute(\"\"\"\n",
    "    SELECT \n",
    "        r.id_rezerwacje, \n",
    "        rw.data_rozpoczecia, \n",
    "        rw.data_zakonczenia\n",
    "    FROM Rezerwacje r\n",
    "    INNER JOIN Transakcje_finansowe tf ON r.id_transakcje = tf.id_transakcje\n",
    "    INNER JOIN Realizowane_wycieczki rw ON r.id_wycieczki = rw.id_wycieczki\n",
    "    WHERE tf.Zrealizowano = 1\n",
    "\"\"\")\n",
    "rezerwacje = cursor.fetchall()\n",
    "\n",
    "# Pobranie już ocenionych rezerwacji\n",
    "cursor.execute(\"SELECT id_rezerwacje FROM Oceny\")\n",
    "ocenione_rezerwacje = {row[0] for row in cursor.fetchall()}\n",
    "\n",
    "# Generowanie ocen dla rezerwacji\n",
    "for (id_rezerwacje, data_rozpoczecia, data_zakonczenia) in rezerwacje:\n",
    "    if id_rezerwacje not in ocenione_rezerwacje:\n",
    "        ocena = random.randint(1, 10)  # Ocena w skali od 1 do 10\n",
    "        data_oceny = data_zakonczenia + timedelta(days=random.randint(1, 30))  # Data oceny jest późniejsza\n",
    "\n",
    "        # Wstawianie danych do tabeli Oceny\n",
    "        cursor.execute(insert_opinion_query, (id_rezerwacje, ocena, data_oceny.strftime('%Y-%m-%d')))\n",
    "\n",
    "# Zatwierdzenie zmian w bazie danych\n",
    "connection.commit()\n",
    "\n",
    "# Zamknięcie kursora i połączenia\n",
    "cursor.close()\n",
    "connection.close()\n"
   ]
  }
 ],
 "metadata": {
  "kernelspec": {
   "display_name": "base",
   "language": "python",
   "name": "python3"
  },
  "language_info": {
   "name": "python",
   "version": "3.11.10"
  }
 },
 "nbformat": 4,
 "nbformat_minor": 2
}
